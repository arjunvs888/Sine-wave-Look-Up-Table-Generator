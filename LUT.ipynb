{
  "nbformat": 4,
  "nbformat_minor": 0,
  "metadata": {
    "colab": {
      "name": "LUT.ipynb",
      "provenance": [],
      "collapsed_sections": [],
      "toc_visible": true,
      "authorship_tag": "ABX9TyNXjsMfURQQKudgEqCGdrvX",
      "include_colab_link": true
    },
    "kernelspec": {
      "name": "python3",
      "display_name": "Python 3"
    }
  },
  "cells": [
    {
      "cell_type": "markdown",
      "metadata": {
        "id": "view-in-github",
        "colab_type": "text"
      },
      "source": [
        "<a href=\"https://colab.research.google.com/github/arjunvs888/Sine-wave-Look-Up-Table-Generator/blob/master/LUT.ipynb\" target=\"_parent\"><img src=\"https://colab.research.google.com/assets/colab-badge.svg\" alt=\"Open In Colab\"/></a>"
      ]
    },
    {
      "cell_type": "markdown",
      "metadata": {
        "id": "BR3pYkP6YtKp",
        "colab_type": "text"
      },
      "source": [
        "Generates `1000` sample points of a sine wave"
      ]
    },
    {
      "cell_type": "code",
      "metadata": {
        "id": "VjqDhhG7TLfD",
        "colab_type": "code",
        "outputId": "e853101e-8966-4495-b463-757eb768153b",
        "colab": {
          "base_uri": "https://localhost:8080/",
          "height": 34
        }
      },
      "source": [
        "import numpy as np\n",
        "import math\n",
        "import matplotlib.pyplot as plot\n",
        "f = 50 #Frequency of Sine wave\n",
        "A = 0.8 #Amplitude of Sine wave\n",
        "t1 = 0 #initial point of Time Period\n",
        "t2 = 1/f #final point of Time Period\n",
        "samples = 1000\n",
        "time = np.arange(t1, t2, t2/samples)\n",
        "amplitude = np.asarray(A*np.sin(2*np.pi*f*time)*255+255, dtype=int)\n",
        "print(\"Total count=\",len(amplitude))\n",
        "# print(\"LUT Generated is\\n\",amplitude)\n"
      ],
      "execution_count": 2,
      "outputs": [
        {
          "output_type": "stream",
          "text": [
            "Total count= 1000\n"
          ],
          "name": "stdout"
        }
      ]
    },
    {
      "cell_type": "markdown",
      "metadata": {
        "id": "hA4M8m7GY2Bl",
        "colab_type": "text"
      },
      "source": [
        "Generate Hex values of the Smaple points of Quarter Sine wave Produced"
      ]
    },
    {
      "cell_type": "code",
      "metadata": {
        "id": "17NJH0ZgYVXv",
        "colab_type": "code",
        "colab": {}
      },
      "source": [
        "amplitude_hex = np.empty\n",
        "v = np.vectorize(hex)\n",
        "amplitude_hex = v(amplitude)\n",
        "# print(\"Hex LUT Generated is\\n\",amplitude_hex)"
      ],
      "execution_count": 0,
      "outputs": []
    },
    {
      "cell_type": "code",
      "metadata": {
        "id": "g2IRBtWyYhEE",
        "colab_type": "code",
        "outputId": "def5c009-08d7-41c7-8440-666b1e6e589f",
        "colab": {
          "base_uri": "https://localhost:8080/",
          "height": 295
        }
      },
      "source": [
        "plot.plot(time, amplitude)\n",
        "plot.title('Sine wave')\n",
        "plot.xlabel('Time')\n",
        "plot.ylabel('Amplitude = sin(time)')\n",
        "plot.grid(True, which='both')\n",
        "plot.axhline(y=0, color='k')\n",
        "plot.show()\n",
        "plot.show()"
      ],
      "execution_count": 4,
      "outputs": [
        {
          "output_type": "display_data",
          "data": {
            "image/png": "[encoded data removed]",
            "text/plain": [
              "<Figure size 432x288 with 1 Axes>"
            ]
          },
          "metadata": {
            "tags": []
          }
        }
      ]
    },
    {
      "cell_type": "markdown",
      "metadata": {
        "id": "AJmoFz-3Y9yM",
        "colab_type": "text"
      },
      "source": [
        "Plot the generated Sine wave values"
      ]
    },
    {
      "cell_type": "markdown",
      "metadata": {
        "id": "cjC75aaDZDze",
        "colab_type": "text"
      },
      "source": [
        "Plot the *hexadecimal* Sine wave values\n",
        "\n",
        "\n",
        "\n"
      ]
    },
    {
      "cell_type": "code",
      "metadata": {
        "id": "MgWdaSe9YkW8",
        "colab_type": "code",
        "colab": {}
      },
      "source": [
        "plot.plot(time, amplitude_hex)\n",
        "plot.title('Sine wave')\n",
        "plot.xlabel('Time')\n",
        "plot.ylabel('Amplitude_Hex = sin(time)')\n",
        "plot.grid(True, which='both')\n",
        "plot.axhline(y=0, color='k')\n",
        "plot.show()"
      ],
      "execution_count": 0,
      "outputs": []
    },
    {
      "cell_type": "markdown",
      "metadata": {
        "id": "LJmQjnTeZLiV",
        "colab_type": "text"
      },
      "source": [
        "Create the Sine wave look up table in sin_lut.txt"
      ]
    },
    {
      "cell_type": "code",
      "metadata": {
        "id": "PYQ1iQLdYm5O",
        "colab_type": "code",
        "colab": {}
      },
      "source": [
        "lut_hex = open(\"sin_lut_hex.mem\",\"w\")\n",
        "lut_dec = open(\"sin_lut_dec.mem\", \"w\")\n",
        "i = 0\n",
        "for x in amplitude_hex:\n",
        "  #format of hex i verilog for 8 bit = 8'hxxx \n",
        "  lut_hex.write(  x.replace(\"x\",\"\"))\n",
        "  lut_hex.write(\"\\n\")\n",
        "lut_hex.close()"
      ],
      "execution_count": 0,
      "outputs": []
    }
  ]
}